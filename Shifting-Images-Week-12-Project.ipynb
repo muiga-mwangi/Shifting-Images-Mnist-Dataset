{
  "cells": [
    {
      "cell_type": "markdown",
      "metadata": {
        "id": "FhyptunfPHus"
      },
      "source": [
        "## Edwin Muiga Mwangi\n",
        "\n",
        "### edwin.muiga@azubiafrica.org\n",
        "\n",
        "### Peer Group 2 - \n",
        "\n",
        "### Week 12 Peer Lab Project\n",
        "\n",
        "\n",
        "\n"
      ]
    },
    {
      "cell_type": "code",
      "execution_count": null,
      "metadata": {
        "id": "pJ8-spQk_-bH"
      },
      "outputs": [],
      "source": [
        "import numpy as np\n",
        "import pandas as pd\n",
        "\n",
        "from sklearn.datasets import fetch_openml\n",
        "from scipy.ndimage.interpolation import shift\n",
        "\n",
        "import matplotlib as mpl\n",
        "import matplotlib.pyplot as plt"
      ]
    },
    {
      "cell_type": "code",
      "execution_count": null,
      "metadata": {
        "colab": {
          "base_uri": "https://localhost:8080/"
        },
        "id": "hH6svU8PADNi",
        "outputId": "96a8437d-29f7-49e5-a067-ccfee1a1a183"
      },
      "outputs": [
        {
          "data": {
            "text/plain": [
              "sklearn.utils.Bunch"
            ]
          },
          "execution_count": 2,
          "metadata": {},
          "output_type": "execute_result"
        }
      ],
      "source": [
        "# load the mnist data from the scikit-learn (sklearn) library\n",
        "\n",
        "mnist = fetch_openml('mnist_784', version=1)\n",
        "type(mnist)"
      ]
    },
    {
      "cell_type": "code",
      "execution_count": null,
      "metadata": {
        "colab": {
          "base_uri": "https://localhost:8080/"
        },
        "id": "SVhdOIZoA8sO",
        "outputId": "56067a72-dc6f-4eb1-a86f-c1ebd687be40"
      },
      "outputs": [
        {
          "data": {
            "text/plain": [
              "(pandas.core.frame.DataFrame, pandas.core.series.Series)"
            ]
          },
          "execution_count": 3,
          "metadata": {},
          "output_type": "execute_result"
        }
      ],
      "source": [
        "#store the features as a pandas DataFrame and the target variable as a pandas Series.\n",
        "\n",
        "X, y = mnist[\"data\"], mnist[\"target\"]\n",
        "\n",
        "type(X), type(y)"
      ]
    },
    {
      "cell_type": "code",
      "execution_count": null,
      "metadata": {
        "colab": {
          "base_uri": "https://localhost:8080/"
        },
        "id": "jHuZS6C0B72Z",
        "outputId": "b22a4fea-4d48-4e09-b2b7-1e33e7aeef22"
      },
      "outputs": [
        {
          "data": {
            "text/plain": [
              "((70000, 784), (70000,))"
            ]
          },
          "execution_count": 4,
          "metadata": {},
          "output_type": "execute_result"
        }
      ],
      "source": [
        "X.shape, y.shape"
      ]
    },
    {
      "cell_type": "code",
      "execution_count": null,
      "metadata": {
        "colab": {
          "base_uri": "https://localhost:8080/"
        },
        "id": "dAONSIVwB-ml",
        "outputId": "6de94238-e3c4-40c6-b34f-07f8855c6e61"
      },
      "outputs": [
        {
          "data": {
            "text/plain": [
              "0    5\n",
              "1    0\n",
              "2    4\n",
              "3    1\n",
              "4    9\n",
              "5    2\n",
              "6    1\n",
              "7    3\n",
              "8    1\n",
              "9    4\n",
              "Name: class, dtype: category\n",
              "Categories (10, object): ['0', '1', '2', '3', ..., '6', '7', '8', '9']"
            ]
          },
          "execution_count": 5,
          "metadata": {},
          "output_type": "execute_result"
        }
      ],
      "source": [
        "  y.head(10)"
      ]
    },
    {
      "cell_type": "code",
      "execution_count": null,
      "metadata": {
        "colab": {
          "base_uri": "https://localhost:8080/",
          "height": 248
        },
        "id": "utFNGjk2CGY0",
        "outputId": "ad823c90-9470-4eb1-b9c6-8e65214544a8"
      },
      "outputs": [
        {
          "data": {
            "image/png": "[encoded data removed]",
            "text/plain": [
              "<Figure size 432x288 with 1 Axes>"
            ]
          },
          "metadata": {
            "needs_background": "light"
          },
          "output_type": "display_data"
        }
      ],
      "source": [
        "#Looking at one digit from the dataset. \n",
        "#Take an instance’s feature vector, reshape it to a 28×28 array, and display it using Matplotlib’s imshow() function\n",
        "some_digit = X.iloc[4,:].values\n",
        "some_digit_image = some_digit.reshape(28, 28)\n",
        "\n",
        "plt.imshow(some_digit_image, cmap = mpl.cm.binary, interpolation=\"nearest\")\n",
        "plt.axis(\"off\")\n",
        "plt.show()"
      ]
    },
    {
      "cell_type": "code",
      "execution_count": null,
      "metadata": {
        "colab": {
          "base_uri": "https://localhost:8080/",
          "height": 35
        },
        "id": "9-o1pOBKCSrr",
        "outputId": "23dd8a03-5370-44d1-bca9-8d1c4d1643ae"
      },
      "outputs": [
        {
          "data": {
            "application/vnd.google.colaboratory.intrinsic+json": {
              "type": "string"
            },
            "text/plain": [
              "'9'"
            ]
          },
          "execution_count": 7,
          "metadata": {},
          "output_type": "execute_result"
        }
      ],
      "source": [
        "#Confirm its a 9\n",
        "\n",
        "y[4]"
      ]
    },
    {
      "cell_type": "code",
      "execution_count": null,
      "metadata": {
        "id": "ajGHFXntCkW_"
      },
      "outputs": [],
      "source": [
        "#Cast  y to integers\n",
        "y = y.astype(np.uint8)"
      ]
    },
    {
      "cell_type": "code",
      "execution_count": null,
      "metadata": {
        "colab": {
          "base_uri": "https://localhost:8080/"
        },
        "id": "bLExSLY9CxoA",
        "outputId": "a0a6adac-cca6-4d24-fc9d-5fb4458378cd"
      },
      "outputs": [
        {
          "data": {
            "text/plain": [
              "0"
            ]
          },
          "execution_count": 9,
          "metadata": {},
          "output_type": "execute_result"
        }
      ],
      "source": [
        "#Check for Missing Values\n",
        "\n",
        "X.isnull().sum().sum()"
      ]
    },
    {
      "cell_type": "markdown",
      "metadata": {
        "id": "0N5wffjMC8-1"
      },
      "source": [
        "Prepare Data"
      ]
    },
    {
      "cell_type": "code",
      "execution_count": null,
      "metadata": {
        "id": "GX8hw31BDGW8"
      },
      "outputs": [],
      "source": [
        "X_train, X_test, y_train, y_test = X[:60000], X[60000:], y[:60000], y[60000:]"
      ]
    },
    {
      "cell_type": "markdown",
      "metadata": {
        "id": "3a23NhHmLxXS"
      },
      "source": [
        "## Simple Python Code to Shift Images in a Specific Direction"
      ]
    },
    {
      "cell_type": "markdown",
      "metadata": {
        "id": "vndmbG5EL4Hd"
      },
      "source": [
        "### 1. Shifting one Image at a time"
      ]
    },
    {
      "cell_type": "code",
      "execution_count": null,
      "metadata": {
        "colab": {
          "base_uri": "https://localhost:8080/",
          "height": 265
        },
        "id": "oqWs-RXUFB4W",
        "outputId": "482cf8a2-e6d2-4555-b5de-c2d280ea4cd3"
      },
      "outputs": [
        {
          "name": "stdout",
          "output_type": "stream",
          "text": [
            "Please enter the row index of the image you want to shift: 4\n"
          ]
        },
        {
          "data": {
            "image/png": "[encoded data removed]",
            "text/plain": [
              "<Figure size 432x288 with 1 Axes>"
            ]
          },
          "metadata": {
            "needs_background": "light"
          },
          "output_type": "display_data"
        }
      ],
      "source": [
        "# view how one of the images in the dataset has been positioned\n",
        "image_loc = int(input('Please enter the row index of the image you want to shift: '))\n",
        "digit = X.iloc[image_loc,:].values\n",
        "image = digit.reshape(28, 28)\n",
        "\n",
        "plt.imshow(image, cmap = mpl.cm.binary, interpolation='nearest')\n",
        "plt.axis('off')\n",
        "plt.show()"
      ]
    },
    {
      "cell_type": "code",
      "execution_count": null,
      "metadata": {
        "colab": {
          "base_uri": "https://localhost:8080/",
          "height": 370
        },
        "id": "36iBLMLDMUT-",
        "outputId": "9c40991c-9d88-441d-956c-32777a297ac8"
      },
      "outputs": [
        {
          "name": "stdout",
          "output_type": "stream",
          "text": [
            "\n",
            "\u001b[1m\n",
            "Shifting one digit in a specific direction\n",
            "\u001b[0m\n",
            "Please enter the row index of the image you want to shift: 4\n",
            "Please enter the direction you want to shift the image: up\n",
            "Please enter by how many pixels (positions) you want to shift the image: 3\n"
          ]
        },
        {
          "data": {
            "image/png": "[encoded data removed]",
            "text/plain": [
              "<Figure size 432x288 with 1 Axes>"
            ]
          },
          "metadata": {
            "needs_background": "light"
          },
          "output_type": "display_data"
        }
      ],
      "source": [
        "print()\n",
        "print(\"\\033[1m\")\n",
        "print(\"Shifting one digit in a specific direction\")\n",
        "print(\"\\033[0m\")\n",
        "# shift a single image in a specified direction\n",
        "# specify the number of pixels (positions) you want to shift the image\n",
        "def shifter(image_loc, shift_direction, how_many_pixels):\n",
        "    digit = X.iloc[image_loc, :].values\n",
        "    image = digit.reshape(28,28)\n",
        "          \n",
        "    if shift_direction == 'up':\n",
        "        shifted_digit_image = shift(image, [-(how_many_pixels), 0])\n",
        "    elif shift_direction == 'down':\n",
        "        shifted_digit_image = shift(image, [how_many_pixels, 0])\n",
        "    elif shift_direction == 'left':\n",
        "        shifted_digit_image = shift(image, [0, -(how_many_pixels)])\n",
        "    elif shift_direction == 'right':\n",
        "        shifted_digit_image = shift(image, [0, how_many_pixels])\n",
        "    plt.imshow(shifted_digit_image, cmap = mpl.cm.binary, interpolation = 'nearest')\n",
        "    plt.axis('off')\n",
        "    plt.show()\n",
        "\n",
        "image_loc = int(input('Please enter the row index of the image you want to shift: '))\n",
        "shift_direction = input('Please enter the direction you want to shift the image: ').lower()\n",
        "how_many_pixels = abs(int(input('Please enter by how many pixels (positions) you want to shift the image: ')))\n",
        "shifter(image_loc, shift_direction, how_many_pixels)"
      ]
    },
    {
      "cell_type": "markdown",
      "metadata": {
        "id": "yw27BElOMcwE"
      },
      "source": [
        "### 2. Viewing and Shifting Multiple Images"
      ]
    },
    {
      "cell_type": "code",
      "execution_count": null,
      "metadata": {
        "colab": {
          "base_uri": "https://localhost:8080/",
          "height": 1000
        },
        "id": "CROuDzfwF7q-",
        "outputId": "52f5efe3-ede3-4b60-9734-63ace93f1a68"
      },
      "outputs": [
        {
          "name": "stdout",
          "output_type": "stream",
          "text": [
            "Please enter the index of the last row of numbers in the dataset you want to view: 12\n"
          ]
        },
        {
          "data": {
            "image/png": "[encoded data removed]",
            "text/plain": [
              "<Figure size 432x288 with 1 Axes>"
            ]
          },
          "metadata": {
            "needs_background": "light"
          },
          "output_type": "display_data"
        },
        {
          "data": {
            "image/png": "[encoded data removed]",
            "text/plain": [
              "<Figure size 432x288 with 1 Axes>"
            ]
          },
          "metadata": {
            "needs_background": "light"
          },
          "output_type": "display_data"
        },
        {
          "data": {
            "image/png": "[encoded data removed]",
            "text/plain": [
              "<Figure size 432x288 with 1 Axes>"
            ]
          },
          "metadata": {
            "needs_background": "light"
          },
          "output_type": "display_data"
        },
        {
          "data": {
            "image/png": "[encoded data removed]",
            "text/plain": [
              "<Figure size 432x288 with 1 Axes>"
            ]
          },
          "metadata": {
            "needs_background": "light"
          },
          "output_type": "display_data"
        },
        {
          "data": {
            "image/png": "[encoded data removed]",
            "text/plain": [
              "<Figure size 432x288 with 1 Axes>"
            ]
          },
          "metadata": {
            "needs_background": "light"
          },
          "output_type": "display_data"
        },
        {
          "data": {
            "image/png": "[encoded data removed]",
            "text/plain": [
              "<Figure size 432x288 with 1 Axes>"
            ]
          },
          "metadata": {
            "needs_background": "light"
          },
          "output_type": "display_data"
        },
        {
          "data": {
            "image/png": "[encoded data removed]",
            "text/plain": [
              "<Figure size 432x288 with 1 Axes>"
            ]
          },
          "metadata": {
            "needs_background": "light"
          },
          "output_type": "display_data"
        },
        {
          "data": {
            "image/png": "[encoded data removed]",
            "text/plain": [
              "<Figure size 432x288 with 1 Axes>"
            ]
          },
          "metadata": {
            "needs_background": "light"
          },
          "output_type": "display_data"
        },
        {
          "data": {
            "image/png": "[encoded data removed]",
            "text/plain": [
              "<Figure size 432x288 with 1 Axes>"
            ]
          },
          "metadata": {
            "needs_background": "light"
          },
          "output_type": "display_data"
        },
        {
          "data": {
            "image/png": "[encoded data removed]",
            "text/plain": [
              "<Figure size 432x288 with 1 Axes>"
            ]
          },
          "metadata": {
            "needs_background": "light"
          },
          "output_type": "display_data"
        },
        {
          "data": {
            "image/png": "[encoded data removed]",
            "text/plain": [
              "<Figure size 432x288 with 1 Axes>"
            ]
          },
          "metadata": {
            "needs_background": "light"
          },
          "output_type": "display_data"
        },
        {
          "data": {
            "image/png": "[encoded data removed]",
            "text/plain": [
              "<Figure size 432x288 with 1 Axes>"
            ]
          },
          "metadata": {
            "needs_background": "light"
          },
          "output_type": "display_data"
        },
        {
          "data": {
            "image/png": "[encoded data removed]",
            "text/plain": [
              "<Figure size 432x288 with 1 Axes>"
            ]
          },
          "metadata": {
            "needs_background": "light"
          },
          "output_type": "display_data"
        }
      ],
      "source": [
        "# view how a specified number of images in the dataset have been positioned\n",
        "image_range_loc = np.arange(int(input('Please enter the index of the last row of numbers in the dataset you want to view: ')) + 1)\n",
        "for digit_array in X.iloc[image_range_loc, :].values:\n",
        "    images = digit_array.reshape(28,28)\n",
        "        \n",
        "    plt.imshow(images, cmap = mpl.cm.binary, interpolation = 'nearest')\n",
        "    plt.axis('off')\n",
        "    plt.show()"
      ]
    },
    {
      "cell_type": "code",
      "execution_count": null,
      "metadata": {
        "colab": {
          "base_uri": "https://localhost:8080/",
          "height": 1000
        },
        "id": "YwytjYN0GmI_",
        "outputId": "78e8c28d-bd15-4081-96ab-213de30bdd4e"
      },
      "outputs": [
        {
          "name": "stdout",
          "output_type": "stream",
          "text": [
            "Please enter the index of the last row of numbers in the dataset you want to shift: 4\n",
            "Please enter the direction you want to shift the image(s): left\n",
            "Please enter by how many pixels (positions) you want to shift the image(s): 4\n"
          ]
        },
        {
          "data": {
            "image/png": "[encoded data removed]",
            "text/plain": [
              "<Figure size 432x288 with 1 Axes>"
            ]
          },
          "metadata": {
            "needs_background": "light"
          },
          "output_type": "display_data"
        },
        {
          "data": {
            "image/png": "[encoded data removed]",
            "text/plain": [
              "<Figure size 432x288 with 1 Axes>"
            ]
          },
          "metadata": {
            "needs_background": "light"
          },
          "output_type": "display_data"
        },
        {
          "data": {
            "image/png": "[encoded data removed]",
            "text/plain": [
              "<Figure size 432x288 with 1 Axes>"
            ]
          },
          "metadata": {
            "needs_background": "light"
          },
          "output_type": "display_data"
        },
        {
          "data": {
            "image/png": "[encoded data removed]",
            "text/plain": [
              "<Figure size 432x288 with 1 Axes>"
            ]
          },
          "metadata": {
            "needs_background": "light"
          },
          "output_type": "display_data"
        },
        {
          "data": {
            "image/png": "[encoded data removed]",
            "text/plain": [
              "<Figure size 432x288 with 1 Axes>"
            ]
          },
          "metadata": {
            "needs_background": "light"
          },
          "output_type": "display_data"
        }
      ],
      "source": [
        "# shift a specified number of images in a specified direction\n",
        "# specify the number of pixels (positions) you want to the images\n",
        "def num_shifter(images_range_loc, shift_direction, how_many_pixels):\n",
        "    for digit_array in X.iloc[images_range_loc, :].values:\n",
        "        images = digit_array.reshape(28,28)\n",
        "        \n",
        "        if shift_direction == 'up':\n",
        "            shifted_digit_images = shift(images, [-(how_many_pixels), 0])\n",
        "        elif shift_direction == 'down':\n",
        "            shifted_digit_images = shift(images, [how_many_pixels, 0])\n",
        "        elif shift_direction == 'left':\n",
        "            shifted_digit_images = shift(images, [0, -(how_many_pixels)])\n",
        "        elif shift_direction == 'right':\n",
        "            shifted_digit_images = shift(images, [0, how_many_pixels])\n",
        "        plt.imshow(shifted_digit_images, cmap = mpl.cm.binary, interpolation = 'nearest')\n",
        "        plt.axis('off')\n",
        "        plt.show()\n",
        "\n",
        "image_range_loc = np.arange(int(input('Please enter the index of the last row of numbers in the dataset you want to shift: ')) + 1)\n",
        "shift_direction = input('Please enter the direction you want to shift the image(s): ').lower()\n",
        "how_many_pixels = abs(int(input('Please enter by how many pixels (positions) you want to shift the image(s): ')))\n",
        "num_shifter(image_range_loc, shift_direction, how_many_pixels)"
      ]
    },
    {
      "cell_type": "code",
      "execution_count": null,
      "metadata": {
        "id": "W7cU0RTJIUdX"
      },
      "outputs": [],
      "source": [
        "  "
      ]
    }
  ],
  "metadata": {
    "colab": {
      "provenance": []
    },
    "kernelspec": {
      "display_name": "Python 3",
      "name": "python3"
    },
    "language_info": {
      "name": "python"
    }
  },
  "nbformat": 4,
  "nbformat_minor": 0
}
